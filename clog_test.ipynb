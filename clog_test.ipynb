{
 "cells": [
  {
   "cell_type": "code",
   "execution_count": 4,
   "metadata": {},
   "outputs": [],
   "source": [
    "import sys\n",
    "import pandas as pd\n",
    "import json\n",
    "import os\n",
    "\n",
    "import time\n",
    "import dateutil.parser\n",
    "import datetime\n",
    "import gc\n",
    "import requests\n",
    "import numpy as np\n",
    "\n",
    "\n",
    "sys.path.insert(0, '../cli_test\\API-V2-Python-examples')\n",
    "import TAHMO"
   ]
  },
  {
   "cell_type": "code",
   "execution_count": null,
   "metadata": {},
   "outputs": [],
   "source": [
    "'''\n",
    "TAHMODATA:\n",
    "    WEATHER_DATA: https://datahub.tahmo.org/services/measurements/v2/stations    \n",
    "    WEATHER_DATA_RAW: measurements/raw   \n",
    "    STATION_INFO: https://datahub.tahmo.org/services/assets/v2/stations\n",
    "    DATA_COMPLETE: https://datahub.tahmo.org/custom/sensordx/latestmeasurements\n",
    "    STATION_STATUS: https://datahub.tahmo.org/custom/stations/status   # this is new\n",
    "    LAST_MEASUREMENT_OFFSET: 55\n",
    "    USE_ONLY_ONE_MEASUREMENT: false\n",
    "    ALWAYS_RETURN_TRUE: true\n",
    "    STATIONS VARIABLES: https://datahub.tahmo.org/services/assets/v2/variables\n",
    "'''\n",
    "'''\n",
    "TAHMOQC:\n",
    "    BASE_URL: https://tahmorqctest.eu-de.mybluemix.net  # test https://tahmorqctest.eu-de.mybluemix.net\n",
    "    SCORE_SUFFIX: /api/score\n",
    "    ALL_MODELS_SUFFIX: /api/models\n",
    "    SINGLE_MODEL_SUFFIX: /api/station   # /model is for getting by the model _id, not the station name\n",
    "    SECRET_USER_PW: \"6GUXzKi#wvDvZ\"\n",
    "    SECRET_USER_NAME: \"SensorDxKenya\"\n",
    "    SAVE_SCORE_RESULTS: true\n",
    "\n",
    "'''"
   ]
  },
  {
   "cell_type": "code",
   "execution_count": 45,
   "metadata": {},
   "outputs": [
    {
     "data": {
      "text/plain": [
       "'\\n\"created\": \"2018-10-25T14:12:08.885918Z\"\\n'"
      ]
     },
     "execution_count": 45,
     "metadata": {},
     "output_type": "execute_result"
    }
   ],
   "source": [
    "# Constants\n",
    "API_BASE_URL = 'https://datahub.tahmo.org'\n",
    "API_MAX_PERIOD = '365D'\n",
    "apiKey = 'SensorDxKenya'\n",
    "apiSecret = '6GUXzKi#wvDvZ'\n",
    "endpoints = {'VARIABLES': 'services/assets/v2/variables', # 28 different variables\n",
    "             'STATION_INFO': 'services/assets/v2/stations',\n",
    "             'WEATHER_DATA': 'services/measurements/v2/stations', # Configured before requesting\n",
    "             'DATA_COMPLETE': 'custom/sensordx/latestmeasurements',\n",
    "             'STATION_STATUS': 'custom/stations/status'}\n",
    "# Precipitation variable\n",
    "'''\n",
    "\"created\": \"2018-10-25T14:12:08.885918Z\"\n",
    "'''"
   ]
  },
  {
   "cell_type": "code",
   "execution_count": 9,
   "metadata": {},
   "outputs": [],
   "source": [
    "def __handleApiError(apiRequest):\n",
    "    json =None\n",
    "    try:\n",
    "        json = apiRequest.json()\n",
    "    finally:\n",
    "        if json and 'error' in json and 'message' in json['error']:\n",
    "            print(json)\n",
    "            raise Exception(json['error']['message'])\n",
    "        else:\n",
    "            raise Exception(f'API request failed with status code {apiRequest.status_code}')"
   ]
  },
  {
   "cell_type": "code",
   "execution_count": 11,
   "metadata": {},
   "outputs": [],
   "source": [
    "def __request(endpoint, params):\n",
    "    print(f'API request: {endpoint}')\n",
    "    apiRequest = requests.get(f'{API_BASE_URL}/{endpoint}',\n",
    "                                params=params,\n",
    "                                auth=requests.auth.HTTPBasicAuth(\n",
    "                                apiKey,\n",
    "                                apiSecret\n",
    "                            )\n",
    "    )\n",
    "    if apiRequest.status_code == 200:\n",
    "        return apiRequest.json()\n",
    "    else:\n",
    "        return __handleApiError(apiRequest)"
   ]
  },
  {
   "cell_type": "code",
   "execution_count": null,
   "metadata": {},
   "outputs": [],
   "source": [
    "var = __request(endpoints['VARIABLES'], {})\n",
    "var"
   ]
  },
  {
   "cell_type": "code",
   "execution_count": 35,
   "metadata": {},
   "outputs": [],
   "source": [
    "def getVariables():\n",
    "    # endpoints['VARIABLES']\n",
    "    response = __request(endpoints['VARIABLES'], {})\n",
    "    variables = {}\n",
    "    if 'data' in response and isinstance(response['data'], list):\n",
    "        for element in response['data']:\n",
    "            variables[element['variable']['shortcode']] = element['variable']\n",
    "    return variables"
   ]
  },
  {
   "cell_type": "code",
   "execution_count": null,
   "metadata": {},
   "outputs": [],
   "source": [
    "getVariables()"
   ]
  },
  {
   "cell_type": "code",
   "execution_count": 37,
   "metadata": {},
   "outputs": [],
   "source": [
    "def getStations():\n",
    "    response = __request(endpoints['STATION_INFO'], {'sort':'code'})\n",
    "    stations = {}\n",
    "    if 'data' in response and isinstance(response['data'], list):\n",
    "        for element in response['data']:\n",
    "            stations[element['code']] = element\n",
    "    return stations"
   ]
  },
  {
   "cell_type": "code",
   "execution_count": null,
   "metadata": {},
   "outputs": [],
   "source": [
    "getStations()"
   ]
  },
  {
   "cell_type": "code",
   "execution_count": 50,
   "metadata": {},
   "outputs": [],
   "source": [
    "def __splitDateRange(inputStartDate, inputEndDate):\n",
    "    try:\n",
    "        startDate = dateutil.parser.parse(inputStartDate)\n",
    "        endDate = dateutil.parser.parse(inputEndDate)\n",
    "        \n",
    "    except ValueError:\n",
    "        raise ValueError('Invalid data parameters')\n",
    "    \n",
    "    # Split into intervals of 365 days\n",
    "    dates = pd.date_range(start=startDate.strftime('%Y%m%d'), end=endDate.strftime('%Y%m%d'), freq=API_MAX_PERIOD)\n",
    "    df = pd.DataFrame([[i, x] for i, x in\n",
    "                           zip(dates, dates.shift(1) - datetime.timedelta(seconds=1))],\n",
    "                          columns=['start', 'end'])\n",
    "\n",
    "    # Set start and end date to their provided values.\n",
    "    df.loc[0, 'start'] = pd.Timestamp(startDate)\n",
    "    df['end'].iloc[-1] = pd.Timestamp(endDate)\n",
    "    return df\n",
    "        "
   ]
  },
  {
   "cell_type": "code",
   "execution_count": 53,
   "metadata": {},
   "outputs": [
    {
     "data": {
      "text/html": [
       "<div>\n",
       "<style scoped>\n",
       "    .dataframe tbody tr th:only-of-type {\n",
       "        vertical-align: middle;\n",
       "    }\n",
       "\n",
       "    .dataframe tbody tr th {\n",
       "        vertical-align: top;\n",
       "    }\n",
       "\n",
       "    .dataframe thead th {\n",
       "        text-align: right;\n",
       "    }\n",
       "</style>\n",
       "<table border=\"1\" class=\"dataframe\">\n",
       "  <thead>\n",
       "    <tr style=\"text-align: right;\">\n",
       "      <th></th>\n",
       "      <th>start</th>\n",
       "      <th>end</th>\n",
       "    </tr>\n",
       "  </thead>\n",
       "  <tbody>\n",
       "    <tr>\n",
       "      <th>0</th>\n",
       "      <td>2017-01-01</td>\n",
       "      <td>2017-12-31 23:59:59</td>\n",
       "    </tr>\n",
       "    <tr>\n",
       "      <th>1</th>\n",
       "      <td>2018-01-01</td>\n",
       "      <td>2018-12-31 23:59:59</td>\n",
       "    </tr>\n",
       "    <tr>\n",
       "      <th>2</th>\n",
       "      <td>2019-01-01</td>\n",
       "      <td>2019-12-31 23:59:59</td>\n",
       "    </tr>\n",
       "    <tr>\n",
       "      <th>3</th>\n",
       "      <td>2020-01-01</td>\n",
       "      <td>2020-12-30 23:59:59</td>\n",
       "    </tr>\n",
       "    <tr>\n",
       "      <th>4</th>\n",
       "      <td>2020-12-31</td>\n",
       "      <td>2021-12-30 23:59:59</td>\n",
       "    </tr>\n",
       "    <tr>\n",
       "      <th>5</th>\n",
       "      <td>2021-12-31</td>\n",
       "      <td>2022-10-31 00:00:00</td>\n",
       "    </tr>\n",
       "  </tbody>\n",
       "</table>\n",
       "</div>"
      ],
      "text/plain": [
       "       start                 end\n",
       "0 2017-01-01 2017-12-31 23:59:59\n",
       "1 2018-01-01 2018-12-31 23:59:59\n",
       "2 2019-01-01 2019-12-31 23:59:59\n",
       "3 2020-01-01 2020-12-30 23:59:59\n",
       "4 2020-12-31 2021-12-30 23:59:59\n",
       "5 2021-12-31 2022-10-31 00:00:00"
      ]
     },
     "execution_count": 53,
     "metadata": {},
     "output_type": "execute_result"
    }
   ],
   "source": [
    "__splitDateRange('2017-01-01', '2022-10-31')"
   ]
  },
  {
   "cell_type": "code",
   "execution_count": null,
   "metadata": {},
   "outputs": [],
   "source": []
  },
  {
   "cell_type": "code",
   "execution_count": null,
   "metadata": {},
   "outputs": [],
   "source": []
  }
 ],
 "metadata": {
  "kernelspec": {
   "display_name": "Python 3",
   "language": "python",
   "name": "python3"
  },
  "language_info": {
   "codemirror_mode": {
    "name": "ipython",
    "version": 3
   },
   "file_extension": ".py",
   "mimetype": "text/x-python",
   "name": "python",
   "nbconvert_exporter": "python",
   "pygments_lexer": "ipython3",
   "version": "3.10.9"
  },
  "orig_nbformat": 4,
  "vscode": {
   "interpreter": {
    "hash": "bd76de9a08fdb969f68b31a57b79dea66bb354afca1625b2c71659650b4a59c1"
   }
  }
 },
 "nbformat": 4,
 "nbformat_minor": 2
}
